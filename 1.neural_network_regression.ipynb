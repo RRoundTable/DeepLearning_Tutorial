{
 "cells": [
  {
   "cell_type": "markdown",
   "metadata": {},
   "source": [
    "## Neural Network 실습\n",
    "\n",
    "<img src=\"https://upload.wikimedia.org/wikipedia/commons/thumb/4/46/Colored_neural_network.svg/1200px-Colored_neural_network.svg.png\" alt=\"Drawing\" style=\"width: 200px;\"/>\n",
    "\n",
    "\n",
    "- 딥러닝의 기본이 되는 Neural Network 살펴보기 : backpropagation 과정 유심히 보기\n",
    "\n",
    "<img src=\"https://cdn-images-1.medium.com/max/800/1*CEtt0h8Rss_qPu7CyqMTdQ.png\" alt=\"Drawing\" style=\"width: 500px;\"/>\n",
    "\n",
    "- index\n",
    "    - feedforward\n",
    "    - backpropagation\n",
    "\n",
    "- reference : pattern recognition and machine learning\n"
   ]
  },
  {
   "cell_type": "code",
   "execution_count": null,
   "metadata": {},
   "outputs": [],
   "source": [
    "# input, output 정의\n",
    "# 간단하게 정의합니다.\n",
    "x=[2,3,4,5,6]\n",
    "y=[20,30,40,50,60]"
   ]
  },
  {
   "cell_type": "markdown",
   "metadata": {},
   "source": [
    "### simple 2 layer\n",
    "<img src=\"https://cdn-images-1.medium.com/max/800/1*E1_l8PGamc2xTNS87XGNcA.png\" alt=\"Drawing\" style=\"width: 500px;\"/>"
   ]
  },
  {
   "cell_type": "code",
   "execution_count": 3,
   "metadata": {},
   "outputs": [],
   "source": [
    "# import module\n",
    "import numpy as np\n",
    "import math"
   ]
  },
  {
   "cell_type": "code",
   "execution_count": 50,
   "metadata": {},
   "outputs": [],
   "source": [
    "class NeuralNetwork:\n",
    "    def __init__(self,x,y):\n",
    "        self.input=x\n",
    "        # x와 matmul 연산을 해야하므로 self.input.shape[1]과 맞춰준다.\n",
    "        self.weight1=np.random.rand(self.input.shape[1],4) # shape =[self.input.shape[0],4]\n",
    "        # weight1 과 연산을 해야하므로, 4와 맞춰주고 output shape는 1로 맞춘다.\n",
    "        self.weight2=np.random.rand(4,1)\n",
    "        self.y=y\n",
    "        self.output=np.zeros(self.y.shape)\n",
    "        \n",
    "    # activation 함수 :  sigmoid\n",
    "    def sigmoid(self,x):\n",
    "        return 1/(1+np.exp(-x))\n",
    "    \n",
    "    # sigmoid의 미분\n",
    "    def sigmoid_derivative(self,x):\n",
    "        return x*(1.0-x)\n",
    "        \n",
    "    # feedforward\n",
    "    def feedforward(self):\n",
    "        self.layer1=self.sigmoid(np.dot(self.input,self.weight1))\n",
    "        self.output=self.sigmoid(np.dot(self.layer1,self.weight2))\n",
    "        \n",
    "    # backpropagation : 합성함수의 chain rule\n",
    "    def backpropagation(self):\n",
    "        # chain rule 구해보기\n",
    "        d_weight2=np.dot(self.layer1.T,2*(self.output-self.y))*self.sigmoid_derivative(self.output)\n",
    "        d_weight1 = np.dot(self.input.T,  (np.dot(2*(self.output-self.y) * self.sigmoid_derivative(self.output), self.weight2.T) * self.sigmoid_derivative(self.layer1)))\n",
    "        \n",
    "        # update the weight\n",
    "        self.weight1-=d_weight1\n",
    "        self.weight2-=d_weight2        \n",
    "    "
   ]
  },
  {
   "cell_type": "code",
   "execution_count": 51,
   "metadata": {},
   "outputs": [
    {
     "name": "stdout",
     "output_type": "stream",
     "text": [
      "[[0.01311533]\n",
      " [0.97310025]\n",
      " [0.97636436]\n",
      " [0.02766203]]\n"
     ]
    }
   ],
   "source": [
    "if __name__ == \"__main__\":\n",
    "    X = np.array([[0,0,1],\n",
    "                  [0,1,1],\n",
    "                  [1,0,1],\n",
    "                  [1,1,1]])\n",
    "    y = np.array([[0],[1],[1],[0]])\n",
    "    nn = NeuralNetwork(X,y)\n",
    "\n",
    "    for i in range(1500):\n",
    "        nn.feedforward()\n",
    "        nn.backpropagation()\n",
    "\n",
    "    print(nn.output)"
   ]
  }
 ],
 "metadata": {
  "kernelspec": {
   "display_name": "Python 3",
   "language": "python",
   "name": "python3"
  },
  "language_info": {
   "codemirror_mode": {
    "name": "ipython",
    "version": 3
   },
   "file_extension": ".py",
   "mimetype": "text/x-python",
   "name": "python",
   "nbconvert_exporter": "python",
   "pygments_lexer": "ipython3",
   "version": "3.6.5"
  }
 },
 "nbformat": 4,
 "nbformat_minor": 2
}
