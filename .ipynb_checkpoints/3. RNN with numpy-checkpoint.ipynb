{
 "cells": [
  {
   "cell_type": "markdown",
   "metadata": {},
   "source": [
    "## 3. Recurrent Neural Network\n",
    "\n",
    "- feedforward \n",
    "- backpropation\n",
    "- sequence 계열 데이터에 사용되는 모델\n",
    "\n",
    "### data\n",
    "\n",
    "### reference : cs231n RNN 참고"
   ]
  },
  {
   "cell_type": "code",
   "execution_count": 2,
   "metadata": {},
   "outputs": [],
   "source": [
    "# import module\n",
    "import numpy as np"
   ]
  },
  {
   "cell_type": "code",
   "execution_count": 1,
   "metadata": {},
   "outputs": [],
   "source": [
    "# data\n",
    "# reference : https://github.com/aisolab/CS20\n",
    "sentences = [['I', 'feel', 'hungry'],\n",
    "     ['tensorflow', 'is', 'very', 'difficult'],\n",
    "     ['tensorflow', 'is', 'a', 'framework', 'for', 'deep', 'learning'],\n",
    "     ['tensorflow', 'is', 'very', 'fast', 'changing']]\n",
    "# 형태소\n",
    "pos = [['pronoun', 'verb', 'adjective'],\n",
    "     ['noun', 'verb', 'adverb', 'adjective'],\n",
    "     ['noun', 'verb', 'determiner', 'noun', 'preposition', 'adjective', 'noun'],\n",
    "     ['noun', 'verb', 'adverb', 'adjective', 'verb']]\n"
   ]
  },
  {
   "cell_type": "code",
   "execution_count": 5,
   "metadata": {},
   "outputs": [],
   "source": [
    "# word dict\n",
    "word_list = []\n",
    "for elm in sentences:\n",
    "    word_list += elm\n",
    "word_list = list(set(word_list)) # unique한 word만 list\n",
    "word_list.sort()\n",
    "word_list = ['<pad>'] + word_list # '<pad>' 추가\n",
    "word_to_ix = {word : idx for idx, word in enumerate(word_list)}  # word\n",
    "ix_to_word={idx: word for idx, word in enumerate(word_list)}"
   ]
  },
  {
   "cell_type": "code",
   "execution_count": 6,
   "metadata": {},
   "outputs": [
    {
     "name": "stdout",
     "output_type": "stream",
     "text": [
      "{'<pad>': 0, 'I': 1, 'a': 2, 'changing': 3, 'deep': 4, 'difficult': 5, 'fast': 6, 'feel': 7, 'for': 8, 'framework': 9, 'hungry': 10, 'is': 11, 'learning': 12, 'tensorflow': 13, 'very': 14}\n",
      "{0: '<pad>', 1: 'I', 2: 'a', 3: 'changing', 4: 'deep', 5: 'difficult', 6: 'fast', 7: 'feel', 8: 'for', 9: 'framework', 10: 'hungry', 11: 'is', 12: 'learning', 13: 'tensorflow', 14: 'very'}\n"
     ]
    }
   ],
   "source": [
    "# 확인하기\n",
    "print(word_to_ix)\n",
    "print(ix_to_word)"
   ]
  },
  {
   "cell_type": "code",
   "execution_count": 10,
   "metadata": {},
   "outputs": [
    {
     "name": "stdout",
     "output_type": "stream",
     "text": [
      "19\n"
     ]
    }
   ],
   "source": [
    "# size\n",
    "data_size, vocab_size=len([ word for i in sentences for word in i]), len(word_to_ix)\n"
   ]
  },
  {
   "cell_type": "code",
   "execution_count": 11,
   "metadata": {},
   "outputs": [],
   "source": [
    "# hyperparameter\n",
    "hidden_size=100 # size of hidden layer of neurons\n",
    "seq_length=25 # number of steps to unroll the RNN\n",
    "learning_rate=1e-1\n",
    "\n",
    "# model parameter\n",
    "Wxh = np.random.randn(hidden_size,vocab_size)*0.01 # input to hidden\n",
    "Whh= np.random.randn(hidden_size,hidden_size)*0.01 # hidden to hidden\n",
    "Why= np.random.randn(vocab_size,hidden_size)*0.01 # hiddent to output\n",
    "bh =np.zeros((hidden_size,1))\n",
    "by = np.zeros((vocab_size,1))"
   ]
  },
  {
   "cell_type": "code",
   "execution_count": null,
   "metadata": {},
   "outputs": [],
   "source": [
    "# sampling\n",
    "def sample(h,seed_ix,n):\n",
    "    \"\"\"\n",
    "    sample a sequence of integers from the model\n",
    "    h is memory state, seed_ix is seed letter for first time step\n",
    "    return sample_ix\n",
    "    \"\"\"\n",
    "    \n",
    "    x=np.zeros((vocab_size,1)) # 가능한 정답지 vocab\n",
    "    x[seed_ix]=1 # seed_ix에 해당하는 index만 1 나머지는 모두 0\n",
    "    ixes=[]\n",
    "    \n",
    "    \"\"\" \n",
    "    xrange 타입은 수정이 불가한 순차적 접근 가능한 데이터 타입이다. \n",
    "    xrange 타입의 장점이라고 하면 지정한 데이터 크기에 상관없이 memory 할당량이 일정하다는 것이다.\n",
    "    \"\"\"\n",
    "    for t in xrange(n):\n",
    "        h=np.tanh(np.dot(Wxh,x)+np.dot(Whh,h)+bh) # next hidden state\n",
    "        y=np.dot(Why,h)+by # y값 예측\n",
    "        p=np.exp(y)/np.sum(np.exp(y)) # print(p) 해보기\n",
    "        # np.random.choice : p를 지정하면 각 p에 속하는 확률로 sampling\n",
    "        ix=np.random.choice(range(vocab_size),p=p.ravel()) # ravel : 다차원 배열을 1차원 배열로 평평하게 변환\n",
    "        x=np.zeros((vocab_size,1))\n",
    "        x[ix]=1\n",
    "        ixes.append(ix)\n",
    "        \n",
    "    return ixes\n",
    "        "
   ]
  },
  {
   "cell_type": "code",
   "execution_count": null,
   "metadata": {},
   "outputs": [],
   "source": [
    "# loss function : forward pass\n",
    "def lossFun(inputs, targets, hprev):\n",
    "    \"\"\"\n",
    "    input : list of integer\n",
    "    target : list of interger\n",
    "    hprev :  Hx1 array of initial state\n",
    "    return the loss, gradient on model parameters, and last hiddent state\n",
    "    \"\"\"\n",
    "    xs, hs, ys, ps={},{},{},{}\n",
    "    hs[-1]=np.copy(hprev)\n",
    "    loss=0\n",
    "    \n",
    "    # forward pass\n",
    "    for t in xrange(len(inputs)):\n",
    "        xs[t]"
   ]
  }
 ],
 "metadata": {
  "kernelspec": {
   "display_name": "Python 3",
   "language": "python",
   "name": "python3"
  },
  "language_info": {
   "codemirror_mode": {
    "name": "ipython",
    "version": 3
   },
   "file_extension": ".py",
   "mimetype": "text/x-python",
   "name": "python",
   "nbconvert_exporter": "python",
   "pygments_lexer": "ipython3",
   "version": "3.6.5"
  }
 },
 "nbformat": 4,
 "nbformat_minor": 2
}
